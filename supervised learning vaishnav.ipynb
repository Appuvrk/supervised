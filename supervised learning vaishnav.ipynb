{
 "cells": [
  {
   "cell_type": "code",
   "execution_count": 3,
   "id": "0796c72e",
   "metadata": {},
   "outputs": [],
   "source": [
    "import pandas as pd\n",
    "import numpy as np\n",
    "import matplotlib.pyplot as plt\n",
    "import seaborn as sns"
   ]
  },
  {
   "cell_type": "markdown",
   "id": "b7818f78",
   "metadata": {},
   "source": [
    "# Do the following in the iris dataset. 1. Read the dataset to the python environment."
   ]
  },
  {
   "cell_type": "code",
   "execution_count": null,
   "id": "174cfa23",
   "metadata": {},
   "outputs": [],
   "source": []
  },
  {
   "cell_type": "code",
   "execution_count": 4,
   "id": "5f5f37bd",
   "metadata": {},
   "outputs": [],
   "source": [
    "data = pd.read_excel(\"Downloads/iris.xls\")"
   ]
  },
  {
   "cell_type": "code",
   "execution_count": 5,
   "id": "fcf62c84",
   "metadata": {},
   "outputs": [
    {
     "data": {
      "text/html": [
       "<div>\n",
       "<style scoped>\n",
       "    .dataframe tbody tr th:only-of-type {\n",
       "        vertical-align: middle;\n",
       "    }\n",
       "\n",
       "    .dataframe tbody tr th {\n",
       "        vertical-align: top;\n",
       "    }\n",
       "\n",
       "    .dataframe thead th {\n",
       "        text-align: right;\n",
       "    }\n",
       "</style>\n",
       "<table border=\"1\" class=\"dataframe\">\n",
       "  <thead>\n",
       "    <tr style=\"text-align: right;\">\n",
       "      <th></th>\n",
       "      <th>SL</th>\n",
       "      <th>SW</th>\n",
       "      <th>PL</th>\n",
       "      <th>PW</th>\n",
       "      <th>Classification</th>\n",
       "    </tr>\n",
       "  </thead>\n",
       "  <tbody>\n",
       "    <tr>\n",
       "      <th>0</th>\n",
       "      <td>5.1</td>\n",
       "      <td>3.5</td>\n",
       "      <td>1.4</td>\n",
       "      <td>0.2</td>\n",
       "      <td>Iris-setosa</td>\n",
       "    </tr>\n",
       "    <tr>\n",
       "      <th>1</th>\n",
       "      <td>4.9</td>\n",
       "      <td>3.0</td>\n",
       "      <td>1.4</td>\n",
       "      <td>0.2</td>\n",
       "      <td>Iris-setosa</td>\n",
       "    </tr>\n",
       "    <tr>\n",
       "      <th>2</th>\n",
       "      <td>NaN</td>\n",
       "      <td>3.2</td>\n",
       "      <td>1.3</td>\n",
       "      <td>0.2</td>\n",
       "      <td>Iris-setosa</td>\n",
       "    </tr>\n",
       "    <tr>\n",
       "      <th>3</th>\n",
       "      <td>4.6</td>\n",
       "      <td>3.1</td>\n",
       "      <td>1.5</td>\n",
       "      <td>0.2</td>\n",
       "      <td>Iris-setosa</td>\n",
       "    </tr>\n",
       "    <tr>\n",
       "      <th>4</th>\n",
       "      <td>5.0</td>\n",
       "      <td>3.6</td>\n",
       "      <td>1.4</td>\n",
       "      <td>0.2</td>\n",
       "      <td>Iris-setosa</td>\n",
       "    </tr>\n",
       "  </tbody>\n",
       "</table>\n",
       "</div>"
      ],
      "text/plain": [
       "    SL   SW   PL   PW Classification\n",
       "0  5.1  3.5  1.4  0.2    Iris-setosa\n",
       "1  4.9  3.0  1.4  0.2    Iris-setosa\n",
       "2  NaN  3.2  1.3  0.2    Iris-setosa\n",
       "3  4.6  3.1  1.5  0.2    Iris-setosa\n",
       "4  5.0  3.6  1.4  0.2    Iris-setosa"
      ]
     },
     "execution_count": 5,
     "metadata": {},
     "output_type": "execute_result"
    }
   ],
   "source": [
    "data.head()"
   ]
  },
  {
   "cell_type": "code",
   "execution_count": 6,
   "id": "91c38a65",
   "metadata": {},
   "outputs": [
    {
     "data": {
      "text/plain": [
       "(150, 5)"
      ]
     },
     "execution_count": 6,
     "metadata": {},
     "output_type": "execute_result"
    }
   ],
   "source": [
    "data.shape"
   ]
  },
  {
   "cell_type": "code",
   "execution_count": 7,
   "id": "fde63795",
   "metadata": {},
   "outputs": [
    {
     "name": "stdout",
     "output_type": "stream",
     "text": [
      "<class 'pandas.core.frame.DataFrame'>\n",
      "RangeIndex: 150 entries, 0 to 149\n",
      "Data columns (total 5 columns):\n",
      " #   Column          Non-Null Count  Dtype  \n",
      "---  ------          --------------  -----  \n",
      " 0   SL              143 non-null    float64\n",
      " 1   SW              144 non-null    float64\n",
      " 2   PL              144 non-null    float64\n",
      " 3   PW              150 non-null    float64\n",
      " 4   Classification  150 non-null    object \n",
      "dtypes: float64(4), object(1)\n",
      "memory usage: 6.0+ KB\n"
     ]
    }
   ],
   "source": [
    "data.info()"
   ]
  },
  {
   "cell_type": "code",
   "execution_count": 8,
   "id": "c77f0056",
   "metadata": {},
   "outputs": [
    {
     "data": {
      "text/plain": [
       "SL                7\n",
       "SW                6\n",
       "PL                6\n",
       "PW                0\n",
       "Classification    0\n",
       "dtype: int64"
      ]
     },
     "execution_count": 8,
     "metadata": {},
     "output_type": "execute_result"
    }
   ],
   "source": [
    "data.isnull().sum()"
   ]
  },
  {
   "cell_type": "markdown",
   "id": "03d0a5ae",
   "metadata": {},
   "source": [
    "# 2. Do necessary pre-processing steps.\n"
   ]
  },
  {
   "cell_type": "code",
   "execution_count": 9,
   "id": "efb4f037",
   "metadata": {},
   "outputs": [],
   "source": [
    "data['SL']=data['SL'].fillna(data['SL'].median())\n",
    "data['SW']=data['SW'].fillna(data['SW'].median())\n",
    "data['PL']=data['PL'].fillna(data['PL'].median())"
   ]
  },
  {
   "cell_type": "code",
   "execution_count": 10,
   "id": "04d4b0cc",
   "metadata": {},
   "outputs": [
    {
     "data": {
      "text/plain": [
       "SL                0\n",
       "SW                0\n",
       "PL                0\n",
       "PW                0\n",
       "Classification    0\n",
       "dtype: int64"
      ]
     },
     "execution_count": 10,
     "metadata": {},
     "output_type": "execute_result"
    }
   ],
   "source": [
    "data.isnull().sum()"
   ]
  },
  {
   "cell_type": "markdown",
   "id": "f5b8cfe9",
   "metadata": {},
   "source": [
    "nullvalues are filles after adding median"
   ]
  },
  {
   "cell_type": "code",
   "execution_count": 11,
   "id": "1c64874b",
   "metadata": {},
   "outputs": [
    {
     "name": "stderr",
     "output_type": "stream",
     "text": [
      "C:\\Users\\Administrator\\anaconda3\\lib\\site-packages\\seaborn\\_decorators.py:36: FutureWarning: Pass the following variable as a keyword arg: x. From version 0.12, the only valid positional argument will be `data`, and passing other arguments without an explicit keyword will result in an error or misinterpretation.\n",
      "  warnings.warn(\n"
     ]
    },
    {
     "data": {
      "image/png": "[encoded data removed]",
      "text/plain": [
       "<Figure size 432x288 with 1 Axes>"
      ]
     },
     "metadata": {
      "needs_background": "light"
     },
     "output_type": "display_data"
    }
   ],
   "source": [
    "sns.boxplot(data[\"SW\"])\n",
    "\n",
    "\n",
    "plt.show() "
   ]
  },
  {
   "cell_type": "code",
   "execution_count": 12,
   "id": "4ea770c4",
   "metadata": {},
   "outputs": [
    {
     "name": "stderr",
     "output_type": "stream",
     "text": [
      "C:\\Users\\Administrator\\anaconda3\\lib\\site-packages\\seaborn\\_decorators.py:36: FutureWarning: Pass the following variable as a keyword arg: x. From version 0.12, the only valid positional argument will be `data`, and passing other arguments without an explicit keyword will result in an error or misinterpretation.\n",
      "  warnings.warn(\n"
     ]
    },
    {
     "data": {
      "text/plain": [
       "<AxesSubplot:xlabel='SL'>"
      ]
     },
     "execution_count": 12,
     "metadata": {},
     "output_type": "execute_result"
    },
    {
     "data": {
      "image/png": "[encoded data removed]",
      "text/plain": [
       "<Figure size 432x288 with 1 Axes>"
      ]
     },
     "metadata": {
      "needs_background": "light"
     },
     "output_type": "display_data"
    }
   ],
   "source": [
    "sns.boxplot(data[\"SL\"])\n"
   ]
  },
  {
   "cell_type": "code",
   "execution_count": 13,
   "id": "41ebe418",
   "metadata": {},
   "outputs": [
    {
     "name": "stderr",
     "output_type": "stream",
     "text": [
      "C:\\Users\\Administrator\\anaconda3\\lib\\site-packages\\seaborn\\_decorators.py:36: FutureWarning: Pass the following variable as a keyword arg: x. From version 0.12, the only valid positional argument will be `data`, and passing other arguments without an explicit keyword will result in an error or misinterpretation.\n",
      "  warnings.warn(\n"
     ]
    },
    {
     "data": {
      "text/plain": [
       "<AxesSubplot:xlabel='PL'>"
      ]
     },
     "execution_count": 13,
     "metadata": {},
     "output_type": "execute_result"
    },
    {
     "data": {
      "image/png": "[encoded data removed]",
      "text/plain": [
       "<Figure size 432x288 with 1 Axes>"
      ]
     },
     "metadata": {
      "needs_background": "light"
     },
     "output_type": "display_data"
    }
   ],
   "source": [
    "sns.boxplot(data[\"PL\"])"
   ]
  },
  {
   "cell_type": "markdown",
   "id": "6b862d6d",
   "metadata": {},
   "source": [
    "only outliers present in SW"
   ]
  },
  {
   "cell_type": "code",
   "execution_count": 14,
   "id": "dff0f3d8",
   "metadata": {},
   "outputs": [],
   "source": [
    "Q1 = np.percentile(data['SW'],25,interpolation='midpoint')\n",
    "Q3 = np.percentile(data['SW'],75,interpolation='midpoint')\n",
    "\n",
    "\n"
   ]
  },
  {
   "cell_type": "code",
   "execution_count": 15,
   "id": "3e21a031",
   "metadata": {},
   "outputs": [],
   "source": [
    "IQR = Q3-Q1\n",
    "low_limit=Q1-1.5*IQR\n",
    "high_limit=Q3+1.5*IQR"
   ]
  },
  {
   "cell_type": "code",
   "execution_count": 16,
   "id": "7b4011bf",
   "metadata": {},
   "outputs": [],
   "source": [
    "index=data['SW'][(data['SW']<low_limit)|(data['SW']>high_limit)].index\n",
    "data.drop(index,inplace=True)"
   ]
  },
  {
   "cell_type": "code",
   "execution_count": 17,
   "id": "e4cc2da3",
   "metadata": {},
   "outputs": [
    {
     "data": {
      "text/plain": [
       "<AxesSubplot:xlabel='SW'>"
      ]
     },
     "execution_count": 17,
     "metadata": {},
     "output_type": "execute_result"
    },
    {
     "data": {
      "image/png": "[encoded data removed]",
      "text/plain": [
       "<Figure size 432x288 with 1 Axes>"
      ]
     },
     "metadata": {
      "needs_background": "light"
     },
     "output_type": "display_data"
    }
   ],
   "source": [
    "sns.boxplot(x=data['SW'])"
   ]
  },
  {
   "cell_type": "code",
   "execution_count": 35,
   "id": "113a39a8",
   "metadata": {},
   "outputs": [],
   "source": [
    "x=data.drop('Classification',axis=1)\n",
    "y=data['Classification']"
   ]
  },
  {
   "cell_type": "code",
   "execution_count": 36,
   "id": "c92e8450",
   "metadata": {},
   "outputs": [
    {
     "data": {
      "image/png": "[encoded data removed]",
      "text/plain": [
       "<Figure size 432x288 with 1 Axes>"
      ]
     },
     "metadata": {
      "needs_background": "light"
     },
     "output_type": "display_data"
    },
    {
     "data": {
      "image/png": "[encoded data removed]",
      "text/plain": [
       "<Figure size 432x288 with 1 Axes>"
      ]
     },
     "metadata": {
      "needs_background": "light"
     },
     "output_type": "display_data"
    },
    {
     "data": {
      "image/png": "[encoded data removed]",
      "text/plain": [
       "<Figure size 432x288 with 1 Axes>"
      ]
     },
     "metadata": {
      "needs_background": "light"
     },
     "output_type": "display_data"
    },
    {
     "data": {
      "image/png": "[encoded data removed]",
      "text/plain": [
       "<Figure size 432x288 with 1 Axes>"
      ]
     },
     "metadata": {
      "needs_background": "light"
     },
     "output_type": "display_data"
    }
   ],
   "source": [
    "## checking skewness\n",
    "freqgraph=data.select_dtypes(include=['float'])\n",
    "## freqgraph.hist(figsize=(10,10))\n",
    "for i in freqgraph:\n",
    "    sns.kdeplot(data[i], color='b', shade=True,)\n",
    "    plt.show()"
   ]
  },
  {
   "cell_type": "markdown",
   "id": "53975d43",
   "metadata": {},
   "source": [
    "# 3. Find out which classification model gives the best result to predict iris species.(also do random forest algorithm)"
   ]
  },
  {
   "cell_type": "code",
   "execution_count": 37,
   "id": "a7e6cdca",
   "metadata": {},
   "outputs": [],
   "source": [
    "#Spliting of the data.\n",
    "from sklearn.model_selection import train_test_split\n",
    "x_train,x_test,y_train,y_test=train_test_split(x,y,random_state=42,test_size=0.25)"
   ]
  },
  {
   "cell_type": "code",
   "execution_count": 38,
   "id": "101d597f",
   "metadata": {},
   "outputs": [
    {
     "name": "stderr",
     "output_type": "stream",
     "text": [
      "C:\\Users\\Administrator\\anaconda3\\lib\\site-packages\\sklearn\\linear_model\\_logistic.py:814: ConvergenceWarning: lbfgs failed to converge (status=1):\n",
      "STOP: TOTAL NO. of ITERATIONS REACHED LIMIT.\n",
      "\n",
      "Increase the number of iterations (max_iter) or scale the data as shown in:\n",
      "    https://scikit-learn.org/stable/modules/preprocessing.html\n",
      "Please also refer to the documentation for alternative solver options:\n",
      "    https://scikit-learn.org/stable/modules/linear_model.html#logistic-regression\n",
      "  n_iter_i = _check_optimize_result(\n"
     ]
    }
   ],
   "source": [
    "#Logistic Regression\n",
    "from sklearn.linear_model import LogisticRegression\n",
    "lr=LogisticRegression()\n",
    "lr.fit(x_train,y_train)\n",
    "y_pred=lr.predict(x_test)"
   ]
  },
  {
   "cell_type": "code",
   "execution_count": 39,
   "id": "78a10e5f",
   "metadata": {},
   "outputs": [
    {
     "data": {
      "text/plain": [
       "74     Iris-versicolor\n",
       "145     Iris-virginica\n",
       "29         Iris-setosa\n",
       "21         Iris-setosa\n",
       "46         Iris-setosa\n",
       "Name: Classification, dtype: object"
      ]
     },
     "execution_count": 39,
     "metadata": {},
     "output_type": "execute_result"
    }
   ],
   "source": [
    "\n",
    "y_test[0:5]"
   ]
  },
  {
   "cell_type": "code",
   "execution_count": 40,
   "id": "b836100b",
   "metadata": {},
   "outputs": [
    {
     "data": {
      "text/plain": [
       "array(['Iris-versicolor', 'Iris-virginica', 'Iris-setosa', 'Iris-setosa',\n",
       "       'Iris-setosa'], dtype=object)"
      ]
     },
     "execution_count": 40,
     "metadata": {},
     "output_type": "execute_result"
    }
   ],
   "source": [
    "y_pred[0:5]"
   ]
  },
  {
   "cell_type": "code",
   "execution_count": 41,
   "id": "a4e82b2f",
   "metadata": {},
   "outputs": [
    {
     "name": "stdout",
     "output_type": "stream",
     "text": [
      "accuracy is : 0.8918918918918919\n",
      "precision is : 0.8834498834498835\n",
      "recall is : 0.8915343915343915\n",
      "F1 score is : 0.8839506172839506\n"
     ]
    }
   ],
   "source": [
    "from sklearn.metrics import confusion_matrix,accuracy_score,precision_score,recall_score,f1_score\n",
    "print(\"accuracy is :\",accuracy_score(y_test,y_pred))\n",
    "print(\"precision is :\",precision_score(y_test,y_pred,average='macro'))\n",
    "print(\"recall is :\",recall_score(y_test,y_pred,average='macro'))\n",
    "print(\"F1 score is :\",f1_score(y_test,y_pred,average='macro'))"
   ]
  },
  {
   "cell_type": "code",
   "execution_count": 42,
   "id": "7256748f",
   "metadata": {},
   "outputs": [],
   "source": [
    "temp=[]\n",
    "temp.append(['Logistic Regression',round(f1_score(y_test,y_pred,average='macro'),5)])"
   ]
  },
  {
   "cell_type": "markdown",
   "id": "6b3a41ba",
   "metadata": {},
   "source": [
    "# Random forest"
   ]
  },
  {
   "cell_type": "code",
   "execution_count": 43,
   "id": "c5fad4f6",
   "metadata": {},
   "outputs": [
    {
     "data": {
      "text/plain": [
       "array(['Iris-versicolor', 'Iris-virginica', 'Iris-setosa', 'Iris-setosa',\n",
       "       'Iris-setosa'], dtype=object)"
      ]
     },
     "execution_count": 43,
     "metadata": {},
     "output_type": "execute_result"
    }
   ],
   "source": [
    "from sklearn.ensemble import RandomForestClassifier\n",
    "rm=RandomForestClassifier()\n",
    "rm.fit(x_train,y_train)\n",
    "y_pred=rm.predict(x_test)\n",
    "y_pred[0:5]"
   ]
  },
  {
   "cell_type": "code",
   "execution_count": 44,
   "id": "185c632a",
   "metadata": {},
   "outputs": [
    {
     "data": {
      "text/plain": [
       "74     Iris-versicolor\n",
       "145     Iris-virginica\n",
       "29         Iris-setosa\n",
       "21         Iris-setosa\n",
       "46         Iris-setosa\n",
       "Name: Classification, dtype: object"
      ]
     },
     "execution_count": 44,
     "metadata": {},
     "output_type": "execute_result"
    }
   ],
   "source": [
    "y_test[0:5]"
   ]
  },
  {
   "cell_type": "code",
   "execution_count": 45,
   "id": "d5b4be8b",
   "metadata": {},
   "outputs": [
    {
     "name": "stdout",
     "output_type": "stream",
     "text": [
      "accuracy is : 0.918918918918919\n",
      "precision is : 0.9076923076923077\n",
      "recall is : 0.9153439153439153\n",
      "F1 score is : 0.9103313840155945\n"
     ]
    }
   ],
   "source": [
    "print(\"accuracy is :\",accuracy_score(y_test,y_pred))\n",
    "print(\"precision is :\",precision_score(y_test,y_pred,average='macro'))\n",
    "print(\"recall is :\",recall_score(y_test,y_pred,average='macro'))\n",
    "print(\"F1 score is :\",f1_score(y_test,y_pred,average='macro'))"
   ]
  },
  {
   "cell_type": "code",
   "execution_count": 46,
   "id": "6a477c1e",
   "metadata": {},
   "outputs": [],
   "source": [
    "temp.append(['Random Forest',round(f1_score(y_test,y_pred,average='macro'),5)])"
   ]
  },
  {
   "cell_type": "markdown",
   "id": "1698d98c",
   "metadata": {},
   "source": [
    "# KNN"
   ]
  },
  {
   "cell_type": "code",
   "execution_count": 47,
   "id": "15b6443e",
   "metadata": {},
   "outputs": [],
   "source": [
    "from sklearn.neighbors import KNeighborsClassifier\n",
    "acc_val=[]\n",
    "neighbors=np.arange(3,15)\n",
    "for k in neighbors:\n",
    "    classifier=KNeighborsClassifier(n_neighbors=k,metric='minkowski')\n",
    "    classifier.fit(x_train,y_train)\n",
    "    y_pred=classifier.predict(x_test)\n",
    "    acc=accuracy_score(y_test,y_pred)\n",
    "    acc_val.append(acc)"
   ]
  },
  {
   "cell_type": "code",
   "execution_count": 48,
   "id": "9a9cb6cb",
   "metadata": {},
   "outputs": [
    {
     "data": {
      "text/plain": [
       "Text(0, 0.5, 'accuracy')"
      ]
     },
     "execution_count": 48,
     "metadata": {},
     "output_type": "execute_result"
    },
    {
     "data": {
      "image/png": "[encoded data removed]",
      "text/plain": [
       "<Figure size 432x288 with 1 Axes>"
      ]
     },
     "metadata": {
      "needs_background": "light"
     },
     "output_type": "display_data"
    }
   ],
   "source": [
    "plt.plot(neighbors,acc_val,'o-')\n",
    "plt.xlabel('k values')\n",
    "plt.ylabel(\"accuracy\")"
   ]
  },
  {
   "cell_type": "code",
   "execution_count": 49,
   "id": "4f43b4b9",
   "metadata": {},
   "outputs": [
    {
     "data": {
      "text/plain": [
       "array(['Iris-versicolor', 'Iris-virginica', 'Iris-setosa', 'Iris-setosa',\n",
       "       'Iris-setosa'], dtype=object)"
      ]
     },
     "execution_count": 49,
     "metadata": {},
     "output_type": "execute_result"
    }
   ],
   "source": [
    "# k=9\n",
    "classifier=KNeighborsClassifier(n_neighbors=5,metric='minkowski')\n",
    "classifier.fit(x_train,y_train)\n",
    "y_pred=classifier.predict(x_test)\n",
    "y_pred[0:5]"
   ]
  },
  {
   "cell_type": "code",
   "execution_count": 50,
   "id": "ab8463dd",
   "metadata": {},
   "outputs": [
    {
     "data": {
      "text/plain": [
       "74     Iris-versicolor\n",
       "145     Iris-virginica\n",
       "29         Iris-setosa\n",
       "21         Iris-setosa\n",
       "46         Iris-setosa\n",
       "Name: Classification, dtype: object"
      ]
     },
     "execution_count": 50,
     "metadata": {},
     "output_type": "execute_result"
    }
   ],
   "source": [
    "y_test[0:5]"
   ]
  },
  {
   "cell_type": "code",
   "execution_count": 51,
   "id": "cbe90115",
   "metadata": {},
   "outputs": [
    {
     "name": "stdout",
     "output_type": "stream",
     "text": [
      "accuracy is : 0.918918918918919\n",
      "precision is : 0.9095238095238095\n",
      "recall is : 0.9153439153439153\n",
      "F1 score is : 0.9112132182307621\n"
     ]
    }
   ],
   "source": [
    "print(\"accuracy is :\",accuracy_score(y_test,y_pred))\n",
    "print(\"precision is :\",precision_score(y_test,y_pred,average='macro'))\n",
    "print(\"recall is :\",recall_score(y_test,y_pred,average='macro'))\n",
    "print(\"F1 score is :\",f1_score(y_test,y_pred,average='macro'))"
   ]
  },
  {
   "cell_type": "code",
   "execution_count": null,
   "id": "044b9fe8",
   "metadata": {},
   "outputs": [],
   "source": []
  },
  {
   "cell_type": "code",
   "execution_count": 54,
   "id": "559dbb53",
   "metadata": {},
   "outputs": [],
   "source": [
    "temp.append(['KNN',round(f1_score(y_test,y_pred,average='macro'),5)])"
   ]
  },
  {
   "cell_type": "markdown",
   "id": "799e4783",
   "metadata": {},
   "source": [
    "# GRADIENT BOOST"
   ]
  },
  {
   "cell_type": "code",
   "execution_count": 55,
   "id": "ac6b50ee",
   "metadata": {},
   "outputs": [
    {
     "data": {
      "text/plain": [
       "array(['Iris-versicolor', 'Iris-virginica', 'Iris-setosa', 'Iris-setosa',\n",
       "       'Iris-setosa'], dtype=object)"
      ]
     },
     "execution_count": 55,
     "metadata": {},
     "output_type": "execute_result"
    }
   ],
   "source": [
    "from sklearn.ensemble import GradientBoostingClassifier\n",
    "gm=GradientBoostingClassifier()\n",
    "gm.fit(x_train,y_train)\n",
    "y_pred=gm.predict(x_test)\n",
    "y_pred[0:5]"
   ]
  },
  {
   "cell_type": "code",
   "execution_count": 56,
   "id": "2db7981a",
   "metadata": {},
   "outputs": [
    {
     "data": {
      "text/plain": [
       "74     Iris-versicolor\n",
       "145     Iris-virginica\n",
       "29         Iris-setosa\n",
       "21         Iris-setosa\n",
       "46         Iris-setosa\n",
       "Name: Classification, dtype: object"
      ]
     },
     "execution_count": 56,
     "metadata": {},
     "output_type": "execute_result"
    }
   ],
   "source": [
    "y_test[0:5]"
   ]
  },
  {
   "cell_type": "code",
   "execution_count": 57,
   "id": "f83ca0f3",
   "metadata": {},
   "outputs": [
    {
     "name": "stdout",
     "output_type": "stream",
     "text": [
      "accuracy is : 0.9459459459459459\n",
      "precision is : 0.9391534391534391\n",
      "recall is : 0.9391534391534391\n",
      "F1 score is : 0.9391534391534391\n"
     ]
    }
   ],
   "source": [
    "print(\"accuracy is :\",accuracy_score(y_test,y_pred))\n",
    "print(\"precision is :\",precision_score(y_test,y_pred,average='macro'))\n",
    "print(\"recall is :\",recall_score(y_test,y_pred,average='macro'))\n",
    "print(\"F1 score is :\",f1_score(y_test,y_pred,average='macro'))"
   ]
  },
  {
   "cell_type": "code",
   "execution_count": 58,
   "id": "2618e39e",
   "metadata": {},
   "outputs": [],
   "source": [
    "temp.append(['Gradient Booster',round(f1_score(y_test,y_pred,average='macro'),5)])"
   ]
  },
  {
   "cell_type": "markdown",
   "id": "8434c81f",
   "metadata": {},
   "source": [
    "# SVM"
   ]
  },
  {
   "cell_type": "code",
   "execution_count": 59,
   "id": "46784587",
   "metadata": {},
   "outputs": [],
   "source": [
    "#SVM\n",
    "from sklearn.svm import SVC\n",
    "svm_linear=SVC(kernel='linear')\n",
    "svm_linear.fit(x_train,y_train)\n",
    "y_pred=svm_linear.predict(x_test)"
   ]
  },
  {
   "cell_type": "code",
   "execution_count": 60,
   "id": "177c5163",
   "metadata": {},
   "outputs": [
    {
     "data": {
      "text/plain": [
       "array(['Iris-versicolor', 'Iris-virginica', 'Iris-setosa', 'Iris-setosa',\n",
       "       'Iris-setosa'], dtype=object)"
      ]
     },
     "execution_count": 60,
     "metadata": {},
     "output_type": "execute_result"
    }
   ],
   "source": [
    "y_pred[0:5]"
   ]
  },
  {
   "cell_type": "code",
   "execution_count": 61,
   "id": "321ade16",
   "metadata": {},
   "outputs": [
    {
     "data": {
      "text/plain": [
       "74     Iris-versicolor\n",
       "145     Iris-virginica\n",
       "29         Iris-setosa\n",
       "21         Iris-setosa\n",
       "46         Iris-setosa\n",
       "Name: Classification, dtype: object"
      ]
     },
     "execution_count": 61,
     "metadata": {},
     "output_type": "execute_result"
    }
   ],
   "source": [
    "y_test[0:5]"
   ]
  },
  {
   "cell_type": "code",
   "execution_count": 62,
   "id": "8773d5c8",
   "metadata": {},
   "outputs": [
    {
     "name": "stdout",
     "output_type": "stream",
     "text": [
      "accuracy is : 0.918918918918919\n",
      "precision is : 0.9076923076923077\n",
      "recall is : 0.9153439153439153\n",
      "F1 score is : 0.9103313840155945\n"
     ]
    }
   ],
   "source": [
    "print(\"accuracy is :\",accuracy_score(y_test,y_pred))\n",
    "print(\"precision is :\",precision_score(y_test,y_pred,average='macro'))\n",
    "print(\"recall is :\",recall_score(y_test,y_pred,average='macro'))\n",
    "print(\"F1 score is :\",f1_score(y_test,y_pred,average='macro'))"
   ]
  },
  {
   "cell_type": "code",
   "execution_count": 63,
   "id": "5e230fb4",
   "metadata": {},
   "outputs": [],
   "source": [
    "temp.append(['Linear SVM',round(f1_score(y_test,y_pred,average='macro'),5)])"
   ]
  },
  {
   "cell_type": "markdown",
   "id": "f38e50ba",
   "metadata": {},
   "source": [
    "# Radial Svm"
   ]
  },
  {
   "cell_type": "code",
   "execution_count": 64,
   "id": "cec2a885",
   "metadata": {},
   "outputs": [],
   "source": [
    "svm_radial=SVC(kernel='rbf')\n",
    "svm_radial.fit(x_train,y_train)\n",
    "y_pred=svm_radial.predict(x_test)"
   ]
  },
  {
   "cell_type": "code",
   "execution_count": 65,
   "id": "2210af81",
   "metadata": {},
   "outputs": [
    {
     "name": "stdout",
     "output_type": "stream",
     "text": [
      "accuracy is : 0.8648648648648649\n",
      "precision is : 0.861111111111111\n",
      "recall is : 0.8677248677248678\n",
      "F1 score is : 0.8570071903405238\n"
     ]
    }
   ],
   "source": [
    "print(\"accuracy is :\",accuracy_score(y_test,y_pred))\n",
    "print(\"precision is :\",precision_score(y_test,y_pred,average='macro'))\n",
    "print(\"recall is :\",recall_score(y_test,y_pred,average='macro'))\n",
    "print(\"F1 score is :\",f1_score(y_test,y_pred,average='macro'))"
   ]
  },
  {
   "cell_type": "code",
   "execution_count": 66,
   "id": "d1df94e6",
   "metadata": {},
   "outputs": [],
   "source": [
    "temp.append(['Radial SVM',round(f1_score(y_test,y_pred,average='macro'),5)])"
   ]
  },
  {
   "cell_type": "code",
   "execution_count": 67,
   "id": "5601c204",
   "metadata": {},
   "outputs": [],
   "source": [
    "#onverting all f1 score to a dataframe\n",
    "dff = pd.DataFrame(temp, columns = ['Algorithms', 'F1-Score'])"
   ]
  },
  {
   "cell_type": "code",
   "execution_count": 68,
   "id": "31d531cf",
   "metadata": {},
   "outputs": [
    {
     "data": {
      "text/html": [
       "<div>\n",
       "<style scoped>\n",
       "    .dataframe tbody tr th:only-of-type {\n",
       "        vertical-align: middle;\n",
       "    }\n",
       "\n",
       "    .dataframe tbody tr th {\n",
       "        vertical-align: top;\n",
       "    }\n",
       "\n",
       "    .dataframe thead th {\n",
       "        text-align: right;\n",
       "    }\n",
       "</style>\n",
       "<table border=\"1\" class=\"dataframe\">\n",
       "  <thead>\n",
       "    <tr style=\"text-align: right;\">\n",
       "      <th></th>\n",
       "      <th>Algorithms</th>\n",
       "      <th>F1-Score</th>\n",
       "    </tr>\n",
       "  </thead>\n",
       "  <tbody>\n",
       "    <tr>\n",
       "      <th>0</th>\n",
       "      <td>Logistic Regression</td>\n",
       "      <td>0.88395</td>\n",
       "    </tr>\n",
       "    <tr>\n",
       "      <th>1</th>\n",
       "      <td>Random Forest</td>\n",
       "      <td>0.91033</td>\n",
       "    </tr>\n",
       "    <tr>\n",
       "      <th>2</th>\n",
       "      <td>KNN</td>\n",
       "      <td>0.91121</td>\n",
       "    </tr>\n",
       "    <tr>\n",
       "      <th>3</th>\n",
       "      <td>KNN</td>\n",
       "      <td>0.91121</td>\n",
       "    </tr>\n",
       "    <tr>\n",
       "      <th>4</th>\n",
       "      <td>Gradient Booster</td>\n",
       "      <td>0.93915</td>\n",
       "    </tr>\n",
       "    <tr>\n",
       "      <th>5</th>\n",
       "      <td>Linear SVM</td>\n",
       "      <td>0.91033</td>\n",
       "    </tr>\n",
       "    <tr>\n",
       "      <th>6</th>\n",
       "      <td>Radial SVM</td>\n",
       "      <td>0.85701</td>\n",
       "    </tr>\n",
       "  </tbody>\n",
       "</table>\n",
       "</div>"
      ],
      "text/plain": [
       "            Algorithms  F1-Score\n",
       "0  Logistic Regression   0.88395\n",
       "1        Random Forest   0.91033\n",
       "2                  KNN   0.91121\n",
       "3                  KNN   0.91121\n",
       "4     Gradient Booster   0.93915\n",
       "5           Linear SVM   0.91033\n",
       "6           Radial SVM   0.85701"
      ]
     },
     "execution_count": 68,
     "metadata": {},
     "output_type": "execute_result"
    }
   ],
   "source": [
    "dff"
   ]
  },
  {
   "cell_type": "code",
   "execution_count": null,
   "id": "ce2bcb68",
   "metadata": {},
   "outputs": [],
   "source": []
  }
 ],
 "metadata": {
  "kernelspec": {
   "display_name": "Python 3 (ipykernel)",
   "language": "python",
   "name": "python3"
  },
  "language_info": {
   "codemirror_mode": {
    "name": "ipython",
    "version": 3
   },
   "file_extension": ".py",
   "mimetype": "text/x-python",
   "name": "python",
   "nbconvert_exporter": "python",
   "pygments_lexer": "ipython3",
   "version": "3.9.12"
  }
 },
 "nbformat": 4,
 "nbformat_minor": 5
}
